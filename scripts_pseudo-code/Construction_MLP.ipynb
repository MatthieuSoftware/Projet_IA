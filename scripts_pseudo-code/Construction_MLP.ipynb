{
 "cells": [
  {
   "cell_type": "code",
   "execution_count": 1,
   "metadata": {},
   "outputs": [
    {
     "name": "stdout",
     "output_type": "stream",
     "text": [
      "Note: you may need to restart the kernel to use updated packages.\n"
     ]
    },
    {
     "name": "stderr",
     "output_type": "stream",
     "text": [
      "ERROR: Invalid requirement: '#'\n",
      "\n",
      "[notice] A new release of pip is available: 24.0 -> 25.0\n",
      "[notice] To update, run: C:\\Users\\matt-\\AppData\\Local\\Microsoft\\WindowsApps\\PythonSoftwareFoundation.Python.3.11_qbz5n2kfra8p0\\python.exe -m pip install --upgrade pip\n"
     ]
    }
   ],
   "source": [
    "pip install pandas # Installation de pandas pour l'execution du scritp python "
   ]
  },
  {
   "cell_type": "code",
   "execution_count": 4,
   "metadata": {},
   "outputs": [
    {
     "name": "stdout",
     "output_type": "stream",
     "text": [
      "Forme des données d'images (X) : (70000, 784)\n",
      "Forme des étiquettes (y) : (70000,)\n",
      "Modèle MLP simple créé : MLPClassifier(hidden_layer_sizes=(50, 2), max_iter=10)\n",
      "Modèle MLP à deux couches créé : MLPClassifier(hidden_layer_sizes=(100, 50), max_iter=10)\n",
      "MLP avec optimiseur Adam : MLPClassifier(hidden_layer_sizes=(50,), max_iter=10)\n",
      "MLP avec optimiseur SGD : MLPClassifier(hidden_layer_sizes=(50,), learning_rate_init=0.01, max_iter=10,\n",
      "              solver='sgd')\n"
     ]
    }
   ],
   "source": [
    "# -*- coding: utf-8 -*-\n",
    "# Author : Badr TAJINI\n",
    "#\n",
    "'''\n",
    "# Code Python très simple pour construire un modèle MLP basique\n",
    "#\n",
    "# Objectifs de l'Étape 2 :\n",
    "# \n",
    "# 1- Chargement de Données : Introduire l'idée de charger un dataset standard (MNIST) en utilisant scikit-learn.\n",
    "# 2- Forme des Données : Comprendre la structure des données d'images (nombre d'échantillons, nombre de caractéristiques).\n",
    "# 3- Construction d'un Modèle : Apprendre à instancier un modèle MLP de base en utilisant MLPClassifier de scikit-learn.=\n",
    "# 4- Hyperparamètres : Être initié au concept des hyperparamètres d'un modèle (comme le nombre de couches cachées et le nombre de neurones par couche) et comment les modifier lors de la construction du modèle.\n",
    "# \n",
    "# Note : Pas d'Entraînement (pour l'instant) : Se concentrer sur la construction du modèle, la prochaine étape se concentrera sur l'entraînement.\n",
    "# \n",
    "#---------------------------------------------------------------------------------------------------------------------------------------------------------------------------\n",
    "# Instructions :\n",
    "#\n",
    "# 1- Exécutez le code.\n",
    "# 2- Observez les sorties de print :\n",
    "#    - Que montrent les formes des données X et y ? (Nombre d'images, nombre de pixels par image, nombre d'étiquettes)\n",
    "#    - Que se passe-t-il lorsque vous créez différentes instances de MLPClassifier ? Quels sont les paramètres que vous pouvez modifier ? (Par exemple, hidden_layer_sizes, solver)\n",
    "#\n",
    "# 3- Expérimentez :\n",
    "#    - Modifiez les valeurs de hidden_layer_sizes. Que se passe-t-il si vous mettez une seule valeur ? Deux valeurs ?\n",
    "#    - Essayez de changer le solver par 'sgd'.\n",
    "#\n",
    "# References : \n",
    "# - Visualisation d'un MLPClassifier : https://scikit-learn.org/1.5/auto_examples/neural_networks/plot_mnist_filters.html\n",
    "'''\n",
    "\n",
    "\n",
    "from sklearn.datasets import fetch_openml\n",
    "from sklearn.neural_network import MLPClassifier\n",
    "import numpy as np\n",
    "\n",
    "# 1. Charger le dataset MNIST\n",
    "mnist = fetch_openml('mnist_784', version=1)\n",
    "X = mnist.data\n",
    "y = mnist.target\n",
    "\n",
    "# 2. Examiner les données (pour comprendre leur forme)\n",
    "print(\"Forme des données d'images (X) :\", X.shape)\n",
    "print(\"Forme des étiquettes (y) :\", y.shape)\n",
    "\n",
    "# 3. Préparer les données (une étape simple : mise à l'échelle - peut être simplifiée au début)\n",
    "#    Note : Pour simplifier au maximum, on pourrait même sauter cette étape au début.\n",
    "X = X / 255.0\n",
    "\n",
    "# 4. Construire un modèle MLP basique\n",
    "#    Ici, nous allons juste instancier le modèle avec différents paramètres.\n",
    "\n",
    "# Exemple 1 : Un MLP très simple avec une seule couche cachée de 50 neurones\n",
    "mlp_simple = MLPClassifier(hidden_layer_sizes=(50,2), max_iter=10)\n",
    "print(\"Modèle MLP simple créé :\", mlp_simple)\n",
    "\n",
    "# Exemple 2 : Un MLP avec deux couches cachées\n",
    "mlp_deux_couches = MLPClassifier(hidden_layer_sizes=(100, 50), max_iter=10)\n",
    "print(\"Modèle MLP à deux couches créé :\", mlp_deux_couches)\n",
    "\n",
    "# Exemple 3 : Essayer différents algorithmes d'optimisation\n",
    "mlp_adam = MLPClassifier(hidden_layer_sizes=(50,), solver='adam', max_iter=10)\n",
    "print(\"MLP avec optimiseur Adam :\", mlp_adam)\n",
    "\n",
    "mlp_sgd = MLPClassifier(hidden_layer_sizes=(50,), solver='sgd', learning_rate_init=0.01, max_iter=10)\n",
    "print(\"MLP avec optimiseur SGD :\", mlp_sgd)\n",
    "\n",
    "# Remarque : `max_iter` est limité ici pour éviter que l'entraînement ne prenne trop de temps si on l'exécute.\n",
    "# L'objectif principal est l'instanciation du modèle."
   ]
  }
 ],
 "metadata": {
  "kernelspec": {
   "display_name": "Python 3",
   "language": "python",
   "name": "python3"
  },
  "language_info": {
   "codemirror_mode": {
    "name": "ipython",
    "version": 3
   },
   "file_extension": ".py",
   "mimetype": "text/x-python",
   "name": "python",
   "nbconvert_exporter": "python",
   "pygments_lexer": "ipython3",
   "version": "3.11.9"
  }
 },
 "nbformat": 4,
 "nbformat_minor": 2
}
